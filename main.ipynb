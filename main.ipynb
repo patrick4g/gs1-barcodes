{
 "cells": [
  {
   "cell_type": "code",
   "execution_count": 1,
   "metadata": {},
   "outputs": [],
   "source": [
    "import zxingcpp\n",
    "from IPython.display import display\n",
    "from PIL import Image\n",
    "from treepoem import generate_barcode"
   ]
  },
  {
   "cell_type": "code",
   "execution_count": 2,
   "metadata": {},
   "outputs": [],
   "source": [
    "def generate_barcode_image(gtin, serial_number, expiry_date, batch_number):\n",
    "    # Generate datamatrix\n",
    "    datamatrix = generate_barcode(\n",
    "        barcode_type=\"gs1datamatrix\",\n",
    "        data=f\"(01){gtin}(21){serial_number}(10){batch_number}(17){expiry_date}\",\n",
    "        options={\"parsefnc\": True, \"format\": \"square\", \"version\": \"26x26\"},\n",
    "    )\n",
    "\n",
    "    # Resize datamatrix to desired size\n",
    "    dm_size_px = (120, 120)\n",
    "    datamatrix = datamatrix.resize(dm_size_px, Image.Resampling.NEAREST)\n",
    "\n",
    "    # Create white picture\n",
    "    picture_size_px = (140, 140)\n",
    "    picture = Image.new(\"L\", picture_size_px, color=\"white\")\n",
    "\n",
    "    # Position the datamatrix\n",
    "    barcode_position_px = (10, 10)\n",
    "    picture.paste(datamatrix, barcode_position_px)\n",
    "\n",
    "    # Save the image\n",
    "    # picture.save(\"datamatrix.png\")\n",
    "    return picture\n"
   ]
  },
  {
   "cell_type": "code",
   "execution_count": 3,
   "metadata": {},
   "outputs": [
    {
     "data": {
      "image/jpeg": "[encoded data removed]",
      "image/png": "[encoded data removed]",
      "text/plain": [
       "<PIL.Image.Image image mode=L size=140x140>"
      ]
     },
     "metadata": {},
     "output_type": "display_data"
    }
   ],
   "source": [
    "gtin = \"01234567890128\"\n",
    "serial_number = \"01234567891011\"\n",
    "expiry_date = \"250731\"\n",
    "batch_number = \"DATAMATRIXTEST\"\n",
    "\n",
    "barcode_image = generate_barcode_image(gtin, serial_number, expiry_date, batch_number)\n",
    "display(barcode_image)"
   ]
  },
  {
   "cell_type": "code",
   "execution_count": 4,
   "metadata": {},
   "outputs": [
    {
     "name": "stdout",
     "output_type": "stream",
     "text": [
      "Raw: b'01012345678901282101234567891011\\x1d10DATAMATRIXTEST\\x1d17250731'\n",
      "Text: (01)01234567890128(21)01234567891011(10)DATAMATRIXTEST(17)250731\n",
      "Format: DataMatrix\n"
     ]
    }
   ],
   "source": [
    "results = zxingcpp.read_barcodes(barcode_image)\n",
    "for r in results:\n",
    "    print(f\"Raw: {r.bytes}\")\n",
    "    print(f\"Text: {r.text}\")\n",
    "    print(f\"Format: {r.format.name}\")"
   ]
  }
 ],
 "metadata": {
  "kernelspec": {
   "display_name": ".venv",
   "language": "python",
   "name": "python3"
  },
  "language_info": {
   "codemirror_mode": {
    "name": "ipython",
    "version": 3
   },
   "file_extension": ".py",
   "mimetype": "text/x-python",
   "name": "python",
   "nbconvert_exporter": "python",
   "pygments_lexer": "ipython3",
   "version": "3.13.3"
  }
 },
 "nbformat": 4,
 "nbformat_minor": 2
}
